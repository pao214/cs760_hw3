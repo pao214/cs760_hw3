{
 "cells": [
  {
   "cell_type": "code",
   "execution_count": 1,
   "id": "d5869729",
   "metadata": {},
   "outputs": [],
   "source": [
    "## Import common packages\n",
    "\n",
    "import numpy as np\n",
    "import pandas as pd\n",
    "import matplotlib\n",
    "import matplotlib.pyplot as plt\n",
    "%matplotlib inline\n",
    "import math"
   ]
  },
  {
   "cell_type": "code",
   "execution_count": 2,
   "id": "024a3f38",
   "metadata": {},
   "outputs": [],
   "source": [
    "## 1.2\n",
    "\n",
    "Xtrain = np.array([[0, 3, 0], [2, 0, 0], [0, 1, 3], [0, 1, 2], [-1, 0, 1], [1, 1, 1]])\n",
    "Ytrain = np.array(['Red', 'Red', 'Red', 'Green', 'Green', 'Red'])\n",
    "\n",
    "xtest = np.array([0, 0, 0])"
   ]
  },
  {
   "cell_type": "code",
   "execution_count": 3,
   "id": "8636550c",
   "metadata": {},
   "outputs": [
    {
     "name": "stdout",
     "output_type": "stream",
     "text": [
      "   dist\n",
      "0  3.00\n",
      "1  2.00\n",
      "2  3.16\n",
      "3  2.24\n",
      "4  1.41\n",
      "5  1.73\n"
     ]
    }
   ],
   "source": [
    "## 1.2 - distances\n",
    "\n",
    "dists = []\n",
    "\n",
    "for xtrain in Xtrain:\n",
    "    dist = np.sqrt(np.sum(np.square(xtrain - xtest)))\n",
    "    dists.append(dist)\n",
    "    \n",
    "    \n",
    "dists = np.array(dists)\n",
    "print(pd.DataFrame(dists, columns=['dist']).round(2))"
   ]
  },
  {
   "cell_type": "code",
   "execution_count": 4,
   "id": "bbde297f",
   "metadata": {},
   "outputs": [
    {
     "data": {
      "text/plain": [
       "('k=1', 'Green', 'k=3', 'Red')"
      ]
     },
     "execution_count": 4,
     "metadata": {},
     "output_type": "execute_result"
    }
   ],
   "source": [
    "## 1.2 - kNN\n",
    "\n",
    "def knn(k):\n",
    "    idx = np.argpartition(dists, k)\n",
    "    ypred = Ytrain[idx[:k]]\n",
    "    if 2 * np.count_nonzero(ypred[ypred == 'Red']) < len(ypred):\n",
    "        return 'Green'\n",
    "    else:\n",
    "        return 'Red'\n",
    "    \n",
    "'k=1', knn(1), 'k=3', knn(3)"
   ]
  },
  {
   "cell_type": "code",
   "execution_count": 5,
   "id": "687ad804",
   "metadata": {},
   "outputs": [
    {
     "data": {
      "text/plain": [
       "('acc=0.98', 'precision=0.33', 'recall=0.80')"
      ]
     },
     "execution_count": 5,
     "metadata": {},
     "output_type": "execute_result"
    }
   ],
   "source": [
    "cm = np.array([[8, 2], [16, 974]])\n",
    "\n",
    "acc = (cm[0, 0] + cm[1, 1]) / cm.sum()\n",
    "precision = cm[0, 0] / (cm[:, 0].sum())\n",
    "recall = cm[0, 0] / cm[0, :].sum()\n",
    "\n",
    "f'{acc=:.2f}', f'{precision=:.2f}', f'{recall=:.2f}'"
   ]
  },
  {
   "cell_type": "code",
   "execution_count": 6,
   "id": "e6c1344c",
   "metadata": {},
   "outputs": [],
   "source": [
    "## 1.5\n",
    "\n",
    "probs = np.array([0.95, 0.85, 0.8, 0.7, 0.55, 0.45, 0.4, 0.3, 0.2, 0.1])\n",
    "labels = np.array([1, 1, 0, 1, 1, 0, 1, 1, 0, 0])"
   ]
  },
  {
   "cell_type": "code",
   "execution_count": 7,
   "id": "7eada048",
   "metadata": {},
   "outputs": [
    {
     "data": {
      "text/plain": [
       "(4, 3, 1, 2)"
      ]
     },
     "execution_count": 7,
     "metadata": {},
     "output_type": "execute_result"
    }
   ],
   "source": [
    "pred = np.where(probs > 0.5, 1, 0)\n",
    "\n",
    "pos = labels == pred\n",
    "neg = labels != pred\n",
    "tp = np.count_nonzero(pred[pos] > 0)\n",
    "tn = np.count_nonzero(pred[pos] == 0)\n",
    "fp = np.count_nonzero(pred[neg] > 0)\n",
    "fn = np.count_nonzero(pred[neg] == 0)\n",
    "\n",
    "tp, tn, fp, fn"
   ]
  },
  {
   "cell_type": "code",
   "execution_count": 8,
   "id": "d9a9262a",
   "metadata": {},
   "outputs": [],
   "source": [
    "# Returns TPR, FPR\n",
    "def roc_point(threshold):\n",
    "    pred = np.where(probs > threshold, 1, 0)\n",
    "    \n",
    "    pos = labels == pred\n",
    "    neg = labels != pred\n",
    "    \n",
    "    tp = np.count_nonzero(pred[pos] > 0)\n",
    "    tn = np.count_nonzero(pred[pos] == 0)\n",
    "    fp = np.count_nonzero(pred[neg] > 0)\n",
    "    fn = np.count_nonzero(pred[neg] == 0)\n",
    "    \n",
    "    return np.array([tp/(tp+fn), fp/(fp+tn)])"
   ]
  },
  {
   "cell_type": "code",
   "execution_count": 9,
   "id": "c5d4a4ea",
   "metadata": {},
   "outputs": [
    {
     "name": "stdout",
     "output_type": "stream",
     "text": [
      "     FPR   TPR\n",
      "0   0.00  0.00\n",
      "1   0.00  0.17\n",
      "2   0.00  0.33\n",
      "3   0.25  0.33\n",
      "4   0.25  0.50\n",
      "5   0.25  0.67\n",
      "6   0.50  0.67\n",
      "7   0.50  0.83\n",
      "8   0.50  1.00\n",
      "9   0.75  1.00\n",
      "10  1.00  1.00\n"
     ]
    }
   ],
   "source": [
    "data = []\n",
    "\n",
    "for threshold in probs:\n",
    "    pt = roc_point(threshold)\n",
    "    data.append(pt)\n",
    "\n",
    "# Predict everyone as positive\n",
    "data.append(roc_point(0))\n",
    "data = np.array(data)\n",
    "\n",
    "print(pd.DataFrame(data[:, ::-1], columns=['FPR', 'TPR']).round(2))"
   ]
  },
  {
   "cell_type": "code",
   "execution_count": 10,
   "id": "b1ac42c1",
   "metadata": {},
   "outputs": [
    {
     "data": {
      "text/plain": [
       "[<matplotlib.lines.Line2D at 0x1216b0650>]"
      ]
     },
     "execution_count": 10,
     "metadata": {},
     "output_type": "execute_result"
    },
    {
     "data": {
      "image/png": "[encoded data removed]",
      "text/plain": [
       "<Figure size 640x480 with 1 Axes>"
      ]
     },
     "metadata": {},
     "output_type": "display_data"
    }
   ],
   "source": [
    "# Plot the ROC curve\n",
    "ax = plt.gca()\n",
    "ax.set_aspect('equal', adjustable='box')\n",
    "# plt.xlim(lo, hi)\n",
    "# plt.ylim(lo, hi)\n",
    "plt.xlabel('FPR')\n",
    "plt.ylabel('TPR')\n",
    "plt.grid(color='c', linestyle='-')\n",
    "\n",
    "xs, ys = data[:, 1], data[:, 0]\n",
    "plt.plot(xs, ys, '-o', color='b')"
   ]
  },
  {
   "cell_type": "code",
   "execution_count": 38,
   "id": "9ceadf9f",
   "metadata": {},
   "outputs": [
    {
     "data": {
      "text/plain": [
       "(0.5,\n",
       " array([-0.5, -1.5, -1. ]),\n",
       " array([0.05, 0.15, 0.1 ]),\n",
       " 0.6931471805599453,\n",
       " 0.40318604888545784)"
      ]
     },
     "execution_count": 38,
     "metadata": {},
     "output_type": "execute_result"
    }
   ],
   "source": [
    "## 1.6\n",
    "\n",
    "theta = np.array([0, 0, 0])\n",
    "lr = 0.1\n",
    "x = np.array([1, 3, 2])\n",
    "y = 1\n",
    "\n",
    "\n",
    "def sig(arg):\n",
    "    return 1/(1 + math.e**-arg)\n",
    "\n",
    "def loss():\n",
    "    fx = sig(theta.T @ x)\n",
    "    return -(y * np.log(fx) + (1 - y) * np.log(1 - fx))\n",
    "\n",
    "f = sig(theta.T @ x)\n",
    "grad = x * (f - y)\n",
    "\n",
    "prev = loss()\n",
    "theta = theta - lr * grad\n",
    "after = loss()\n",
    "\n",
    "f, grad, theta, prev, after"
   ]
  },
  {
   "cell_type": "code",
   "execution_count": 12,
   "id": "45d71426",
   "metadata": {},
   "outputs": [],
   "source": [
    "## Problem 2.1\n",
    "\n",
    "colnames = ['x1', 'x2', 'y']\n",
    "\n",
    "df2z = pd.read_csv('../hw3Data/D2z.txt', sep=' ', names=colnames)\n",
    "d2z = df2z.to_numpy()"
   ]
  },
  {
   "cell_type": "code",
   "execution_count": 13,
   "id": "51b27d92",
   "metadata": {},
   "outputs": [],
   "source": [
    "xpos, xneg = [], []\n",
    "\n",
    "for x1 in np.arange(-2, 2.1, 0.1):\n",
    "    for x2 in np.arange(-2, 2.1, 0.1):\n",
    "        pt = np.array([x1, x2])\n",
    "        # Omit np.sqrt because it is monotonic\n",
    "        closest = np.argmin(np.sum(np.square(pt - d2z[:, :2]), axis=1))\n",
    "        if math.isclose(d2z[closest, 2], 1):\n",
    "            xpos.append(pt)\n",
    "        else:\n",
    "            xneg.append(pt)\n",
    "            \n",
    "xpos, xneg = np.array(xpos), np.array(xneg)"
   ]
  },
  {
   "cell_type": "code",
   "execution_count": 14,
   "id": "6482145d",
   "metadata": {},
   "outputs": [
    {
     "data": {
      "text/plain": [
       "[<matplotlib.lines.Line2D at 0x121b21b90>]"
      ]
     },
     "execution_count": 14,
     "metadata": {},
     "output_type": "execute_result"
    },
    {
     "data": {
      "image/png": "[encoded data removed]",
      "text/plain": [
       "<Figure size 640x480 with 1 Axes>"
      ]
     },
     "metadata": {},
     "output_type": "display_data"
    }
   ],
   "source": [
    "# Plot the result\n",
    "ax = plt.gca()\n",
    "ax.set_aspect('equal', adjustable='box')\n",
    "# plt.xlim(lo, hi)\n",
    "# plt.ylim(lo, hi)\n",
    "plt.xlabel('x1')\n",
    "plt.ylabel('x2')\n",
    "# plt.grid(color='c', linestyle='-')\n",
    "# Separate points into positive and negative labels\n",
    "pos, neg = d2z[:, 2] == 1, d2z[:, 2] == 0\n",
    "x1s, x2s = d2z[:, 0], d2z[:, 1]\n",
    "\n",
    "# Plot the training points\n",
    "plt.plot(x1s[pos], x2s[pos], 'k+')\n",
    "plt.plot(x1s[neg], x2s[neg], 'ko', markerfacecolor='none')\n",
    "\n",
    "# Plot the predictions\n",
    "plt.plot(xpos[:, 0], xpos[:, 1], 'r.', markersize=1, alpha=1)\n",
    "plt.plot(xneg[:, 0], xneg[:, 1], 'b.', markersize=1, alpha=1)"
   ]
  },
  {
   "cell_type": "code",
   "execution_count": 15,
   "id": "92a93c1a",
   "metadata": {},
   "outputs": [],
   "source": [
    "## Problem 2.2\n",
    "\n",
    "dfemails = pd.read_csv('../hw3Data/emails.csv')\n",
    "demails = dfemails.to_numpy()\n",
    "\n",
    "X = demails[:, 1:-1].astype(float)\n",
    "Y = demails[:, -1].astype(int)\n",
    "\n",
    "n, p = X.shape"
   ]
  },
  {
   "cell_type": "code",
   "execution_count": 16,
   "id": "7029aaa0",
   "metadata": {},
   "outputs": [],
   "source": [
    "## Compute pairwise distance for efficiency\n",
    "## (idx1, idx2) - distance between these two points\n",
    "\n",
    "dists = np.zeros((n, n))\n",
    "\n",
    "for idx, x in enumerate(X):\n",
    "    dists[idx, :] = np.sum(np.square(x - X), axis=1)"
   ]
  },
  {
   "cell_type": "code",
   "execution_count": 17,
   "id": "e2860a09",
   "metadata": {},
   "outputs": [
    {
     "data": {
      "text/plain": [
       "(110984.0, 110984.0, 110984.0)"
      ]
     },
     "execution_count": 17,
     "metadata": {},
     "output_type": "execute_result"
    }
   ],
   "source": [
    "## Testing dists\n",
    "\n",
    "np.sum(np.square(X[0] - X), axis=1)[1], np.sum(np.square(X[0] - X[1])), dists[0, 1]"
   ]
  },
  {
   "cell_type": "code",
   "execution_count": 18,
   "id": "3c6066c9",
   "metadata": {},
   "outputs": [
    {
     "data": {
      "text/plain": [
       "((5000, 10000), 1000)"
      ]
     },
     "execution_count": 18,
     "metadata": {},
     "output_type": "execute_result"
    }
   ],
   "source": [
    "dupdists = np.concatenate((dists, dists), axis=1)\n",
    "foldlen = n // 5\n",
    "\n",
    "dupdists.shape, foldlen"
   ]
  },
  {
   "cell_type": "code",
   "execution_count": 19,
   "id": "e99e0d1d",
   "metadata": {},
   "outputs": [
    {
     "data": {
      "text/plain": [
       "(array([[6]]), array([[0]]), array([False]), array([0]), array([ True]))"
      ]
     },
     "execution_count": 19,
     "metadata": {},
     "output_type": "execute_result"
    }
   ],
   "source": [
    "#np.argpartition(dupdists[:1, 5:6], 1, axis=1)\n",
    "kclosest = np.argpartition(dupdists[:1, 5:7], 1, axis=1)[:, :1]\n",
    "\n",
    "kclosest = (kclosest + 5)\n",
    "close_labels = np.array([Y[kcl] for kcl in kclosest])\n",
    "ypred = 2 * close_labels.sum(axis=1) >= 1\n",
    "ytest = Y[:1]\n",
    "\n",
    "kclosest, close_labels, ypred, ytest, ypred == ytest"
   ]
  },
  {
   "cell_type": "code",
   "execution_count": 20,
   "id": "ad393c39",
   "metadata": {},
   "outputs": [
    {
     "data": {
      "text/plain": [
       "1000"
      ]
     },
     "execution_count": 20,
     "metadata": {},
     "output_type": "execute_result"
    }
   ],
   "source": [
    "kclosest = np.argpartition(dupdists[:1000, 1000:], 1, axis=1)[:, :1]\n",
    "\n",
    "kclosest = (kclosest + 1000) % 5000\n",
    "close_labels = np.array([Y[kcl] for kcl in kclosest])\n",
    "ypred = 2 * close_labels.sum(axis=1) > 1\n",
    "ytest = Y[:1000]\n",
    "\n",
    "(ypred == ytest).sum()"
   ]
  },
  {
   "cell_type": "code",
   "execution_count": 21,
   "id": "2c370921",
   "metadata": {},
   "outputs": [],
   "source": [
    "def run_knn(fold, k):\n",
    "    # Test partition: [fold * 1000, (fold+1) * 1000)\n",
    "    # Train partition: reamining\n",
    "    # Use dupdists since it wrap duplicates the distances\n",
    "    kclosest = np.argpartition(\n",
    "        dupdists[fold * foldlen : (fold+1) * foldlen, (fold+1) * foldlen : (fold+5) * foldlen], k, axis=1)[:, :k]\n",
    "    # argpartition returns index from the passed array\n",
    "    # Need to offset this with the training data offset\n",
    "    kclosest = (kclosest + (fold+1) * foldlen) % n\n",
    "    close_labels = np.array([Y[kcl] for kcl in kclosest])\n",
    "    ypred = 2 * close_labels.sum(axis=1) > k\n",
    "    ytest = Y[fold * foldlen : (fold+1) * foldlen]\n",
    "    \n",
    "    match = ypred == ytest\n",
    "    nomatch = ypred != ytest\n",
    "    \n",
    "    tp = np.count_nonzero(ypred[match] > 0)\n",
    "    tn = np.count_nonzero(ypred[match] == 0)\n",
    "    fp = np.count_nonzero(ypred[nomatch] > 0)\n",
    "    fn = np.count_nonzero(ypred[nomatch] == 0)\n",
    "    print(tp, tn, fp, fn)\n",
    "    \n",
    "    accuracy = np.count_nonzero(match) / len(match)\n",
    "    precision = tp / (tp + fp)\n",
    "    recall = tp / (tp + fn)\n",
    "    \n",
    "    print(f'{fold=}, {accuracy=:.2f}, {precision=:.2f}, {recall=:.2f}')\n",
    "    \n",
    "    return accuracy\n",
    "    "
   ]
  },
  {
   "cell_type": "code",
   "execution_count": 22,
   "id": "0e22280c",
   "metadata": {
    "scrolled": true
   },
   "outputs": [],
   "source": [
    "def run_cv(k):\n",
    "    accs = []\n",
    "    for fold in range(0, 5):\n",
    "        acc = run_knn(fold, k)\n",
    "        accs.append(acc)\n",
    "    accs = np.array(accs)\n",
    "    return np.mean(accs)"
   ]
  },
  {
   "cell_type": "markdown",
   "id": "9328c5ca",
   "metadata": {},
   "source": [
    "#### Results for 1NN\n",
    "\n",
    "233 592 123 52\n",
    "accuracy=0.82, precision=0.65, recall=0.82\n",
    "\n",
    "240 613 110 37\n",
    "accuracy=0.85, precision=0.69, recall=0.87\n",
    "\n",
    "238 625 91 46\n",
    "accuracy=0.86, precision=0.72, recall=0.84\n",
    "\n",
    "241 611 95 53\n",
    "accuracy=0.85, precision=0.72, recall=0.82\n",
    "\n",
    "232 543 151 74\n",
    "accuracy=0.78, precision=0.61, recall=0.76\n",
    "\n",
    "\n",
    "#### Results for Naive prediction\n",
    "\n",
    "0 715 0 285\n",
    "accuracy=0.71, precision=0.33, recall=0.80\n",
    "\n",
    "0 723 0 277\n",
    "accuracy=0.72, precision=0.33, recall=0.80\n",
    "\n",
    "0 716 0 284\n",
    "accuracy=0.72, precision=0.33, recall=0.80\n",
    "\n",
    "0 706 0 294\n",
    "accuracy=0.71, precision=0.33, recall=0.80\n",
    "\n",
    "0 694 0 306\n",
    "accuracy=0.69, precision=0.33, recall=0.80"
   ]
  },
  {
   "cell_type": "code",
   "execution_count": 23,
   "id": "47bcb3b4",
   "metadata": {},
   "outputs": [
    {
     "name": "stdout",
     "output_type": "stream",
     "text": [
      "233 592 123 52\n",
      "fold=0, accuracy=0.82, precision=0.65, recall=0.82\n",
      "240 613 110 37\n",
      "fold=1, accuracy=0.85, precision=0.69, recall=0.87\n",
      "238 625 91 46\n",
      "fold=2, accuracy=0.86, precision=0.72, recall=0.84\n",
      "241 611 95 53\n",
      "fold=3, accuracy=0.85, precision=0.72, recall=0.82\n",
      "232 543 151 74\n",
      "fold=4, accuracy=0.78, precision=0.61, recall=0.76\n",
      "Accuracy for kNN, k=1, acc=0.8336\n",
      "248 597 118 37\n",
      "fold=0, accuracy=0.84, precision=0.68, recall=0.87\n",
      "226 625 98 51\n",
      "fold=1, accuracy=0.85, precision=0.70, recall=0.82\n",
      "231 627 89 53\n",
      "fold=2, accuracy=0.86, precision=0.72, recall=0.81\n",
      "243 636 70 51\n",
      "fold=3, accuracy=0.88, precision=0.78, recall=0.83\n",
      "225 550 144 81\n",
      "fold=4, accuracy=0.78, precision=0.61, recall=0.74\n",
      "Accuracy for kNN, k=3, acc=0.8416\n",
      "242 595 120 43\n",
      "fold=0, accuracy=0.84, precision=0.67, recall=0.85\n",
      "217 633 90 60\n",
      "fold=1, accuracy=0.85, precision=0.71, recall=0.78\n",
      "233 638 78 51\n",
      "fold=2, accuracy=0.87, precision=0.75, recall=0.82\n",
      "237 633 73 57\n",
      "fold=3, accuracy=0.87, precision=0.76, recall=0.81\n",
      "229 550 144 77\n",
      "fold=4, accuracy=0.78, precision=0.61, recall=0.75\n",
      "Accuracy for kNN, k=5, acc=0.8413999999999999\n",
      "243 596 119 42\n",
      "fold=0, accuracy=0.84, precision=0.67, recall=0.85\n",
      "226 636 87 51\n",
      "fold=1, accuracy=0.86, precision=0.72, recall=0.82\n",
      "236 639 77 48\n",
      "fold=2, accuracy=0.88, precision=0.75, recall=0.83\n",
      "235 640 66 59\n",
      "fold=3, accuracy=0.88, precision=0.78, recall=0.80\n",
      "228 551 143 78\n",
      "fold=4, accuracy=0.78, precision=0.61, recall=0.75\n",
      "Accuracy for kNN, k=7, acc=0.8460000000000001\n",
      "232 630 85 53\n",
      "fold=0, accuracy=0.86, precision=0.73, recall=0.81\n",
      "219 650 73 58\n",
      "fold=1, accuracy=0.87, precision=0.75, recall=0.79\n",
      "222 653 63 62\n",
      "fold=2, accuracy=0.88, precision=0.78, recall=0.78\n",
      "228 658 48 66\n",
      "fold=3, accuracy=0.89, precision=0.83, recall=0.78\n",
      "211 571 123 95\n",
      "fold=4, accuracy=0.78, precision=0.63, recall=0.69\n",
      "Accuracy for kNN, k=10, acc=0.8548\n"
     ]
    }
   ],
   "source": [
    "ks = np.array([1, 3, 5, 7, 10])\n",
    "accs = []\n",
    "for k in ks:\n",
    "    acc = run_cv(k)\n",
    "    accs.append(acc)\n",
    "    print(f'Accuracy for kNN, {k=}, {acc=}')\n",
    "    \n",
    "accs = np.array(accs)"
   ]
  },
  {
   "cell_type": "code",
   "execution_count": 24,
   "id": "1e5fa6c3",
   "metadata": {},
   "outputs": [
    {
     "data": {
      "text/plain": [
       "(array([ 1,  3,  5,  7, 10]), array([0.8336, 0.8416, 0.8414, 0.846 , 0.8548]))"
      ]
     },
     "execution_count": 24,
     "metadata": {},
     "output_type": "execute_result"
    },
    {
     "data": {
      "image/png": "[encoded data removed]",
      "text/plain": [
       "<Figure size 640x480 with 1 Axes>"
      ]
     },
     "metadata": {},
     "output_type": "display_data"
    }
   ],
   "source": [
    "# Plot the result\n",
    "ax = plt.gca()\n",
    "# ax.set_aspect('equal', adjustable='box')\n",
    "# plt.xlim(lo, hi)\n",
    "plt.ylim(0.83, 0.86)\n",
    "plt.xlabel('k')\n",
    "plt.ylabel('accuracy')\n",
    "plt.grid(color='c', linestyle='-')\n",
    "\n",
    "# Plot the training points\n",
    "plt.plot(ks, accs, 'b-o')\n",
    "\n",
    "ks, accs"
   ]
  },
  {
   "cell_type": "code",
   "execution_count": 25,
   "id": "3d2ea44e",
   "metadata": {},
   "outputs": [
    {
     "data": {
      "text/plain": [
       "((3000,), 0.01)"
      ]
     },
     "execution_count": 25,
     "metadata": {},
     "output_type": "execute_result"
    }
   ],
   "source": [
    "## Problem 2.3\n",
    "\n",
    "rng = np.random.default_rng(7)\n",
    "w = rng.normal(size=p)\n",
    "lr = 0.01\n",
    "\n",
    "w.shape, lr"
   ]
  },
  {
   "cell_type": "code",
   "execution_count": 26,
   "id": "a7bcb99d",
   "metadata": {},
   "outputs": [],
   "source": [
    "## Exp does not behave well for large positive values\n",
    "## Source: https://stackoverflow.com/a/29863846\n",
    "\n",
    "def sigmoid(x):\n",
    "    return np.exp(-np.logaddexp(0, -x))"
   ]
  },
  {
   "cell_type": "code",
   "execution_count": 27,
   "id": "043cff8e",
   "metadata": {
    "scrolled": true
   },
   "outputs": [
    {
     "name": "stdout",
     "output_type": "stream",
     "text": [
      "0.37065664329422005 0.715\n",
      "0.23875000003976488 0.3919999999998597\n",
      "0.2035 0.255\n",
      "0.11973829281009077 0.096\n",
      "0.15952454648975622 0.167\n",
      "0.0865 0.085\n",
      "0.08625 0.078\n",
      "0.06824999999998921 0.077\n",
      "0.06399999999846517 0.074\n",
      "0.05500000004837171 0.073\n"
     ]
    },
    {
     "data": {
      "text/plain": [
       "((4000,), (3000,))"
      ]
     },
     "execution_count": 27,
     "metadata": {},
     "output_type": "execute_result"
    }
   ],
   "source": [
    "for idx in np.arange(3000):\n",
    "    f = sigmoid(X[1000:] @ w)\n",
    "    grad = X[1000:].T @ (f - Y[1000:])\n",
    "    w = w - lr * grad\n",
    "    \n",
    "    if idx % 300 == 0:\n",
    "        train_loss = np.mean((f - Y[1000:]) ** 2)\n",
    "        f = sigmoid(X[:1000] @ w)\n",
    "        val_loss = np.mean((f - Y[:1000]) ** 2)\n",
    "        print(train_loss, val_loss)\n",
    "\n",
    "f.shape, grad.shape"
   ]
  },
  {
   "cell_type": "code",
   "execution_count": 28,
   "id": "c609fd98",
   "metadata": {},
   "outputs": [
    {
     "data": {
      "text/plain": [
       "((10000, 3000), (10000,))"
      ]
     },
     "execution_count": 28,
     "metadata": {},
     "output_type": "execute_result"
    }
   ],
   "source": [
    "Xdup = np.concatenate((X, X), axis=0)\n",
    "Ydup = np.concatenate((Y, Y))\n",
    "\n",
    "Xdup.shape, Ydup.shape"
   ]
  },
  {
   "cell_type": "code",
   "execution_count": 35,
   "id": "76bcda7b",
   "metadata": {},
   "outputs": [],
   "source": [
    "def run_fold(fold):\n",
    "    # Initialize weights\n",
    "    rng = np.random.default_rng(7)\n",
    "    w = rng.normal(size=p)\n",
    "    lr = 0.005\n",
    "    \n",
    "    # Determine training and test sets for this fold\n",
    "    Xtest = X[fold * foldlen : (fold+1) * foldlen]\n",
    "    Xtrain = Xdup[(fold+1) * foldlen : (fold+5) * foldlen]\n",
    "    Ytest = Y[fold * foldlen : (fold+1) * foldlen]\n",
    "    Ytrain = Ydup[(fold+1) * foldlen : (fold+5) * foldlen]\n",
    "    \n",
    "    # Run the gradient descent optimization\n",
    "    for idx in range(5000):\n",
    "        f = sigmoid(Xtrain @ w)\n",
    "        grad = Xtrain.T @ (f - Ytrain)\n",
    "        w = w - lr * grad\n",
    "\n",
    "        if (idx+1) % 500 == 0:\n",
    "            train_loss = np.mean((f - Ytrain) ** 2)\n",
    "            ftest = sigmoid(Xtest @ w)\n",
    "            val_loss = np.mean((ftest - Ytest) ** 2)\n",
    "            print(f'Loss: {train_loss=:.2f}, {val_loss=:.2f}')\n",
    "            \n",
    "    # Compute predicted labels with 0.5 threshold\n",
    "    threshold = 0.5\n",
    "    Ypred = sigmoid(Xtest @ w) > threshold\n",
    "    \n",
    "    # Compute confusion matrix\n",
    "    match = Ypred == Ytest\n",
    "    nomatch = Ypred != Ytest\n",
    "    \n",
    "    tp = np.count_nonzero(Ypred[match] > 0)\n",
    "    tn = np.count_nonzero(Ypred[match] == 0)\n",
    "    fp = np.count_nonzero(Ypred[nomatch] > 0)\n",
    "    fn = np.count_nonzero(Ypred[nomatch] == 0)\n",
    "    print(f'Confusion matrix: {tp=}, {tn=}, {fp=}, {fn=}')\n",
    "    \n",
    "    # Compute accuracy, precision, recall\n",
    "    accuracy = np.count_nonzero(match) / len(match)\n",
    "    precision = tp / (tp + fp)\n",
    "    recall = tp / (tp + fn)\n",
    "    \n",
    "    print(f'Evaluation Metrics: {fold=}, {accuracy=:.2f}, {precision=:.2f}, {recall=:.2f}')"
   ]
  },
  {
   "cell_type": "code",
   "execution_count": 36,
   "id": "6972e84f",
   "metadata": {
    "scrolled": true
   },
   "outputs": [
    {
     "name": "stdout",
     "output_type": "stream",
     "text": [
      "Loss: train_loss=0.21, val_loss=0.34\n",
      "Loss: train_loss=0.10, val_loss=0.09\n",
      "Loss: train_loss=0.08, val_loss=0.08\n",
      "Loss: train_loss=0.22, val_loss=0.30\n",
      "Loss: train_loss=0.06, val_loss=0.08\n",
      "Loss: train_loss=0.06, val_loss=0.07\n",
      "Loss: train_loss=0.06, val_loss=0.07\n",
      "Loss: train_loss=0.05, val_loss=0.07\n",
      "Loss: train_loss=0.24, val_loss=0.39\n",
      "Loss: train_loss=0.05, val_loss=0.06\n",
      "Confusion matrix: tp=253, tn=687, fp=28, fn=32\n",
      "Evaluation Metrics: fold=0, accuracy=0.94, precision=0.90, recall=0.89\n",
      "Loss: train_loss=0.25, val_loss=0.32\n",
      "Loss: train_loss=0.11, val_loss=0.12\n",
      "Loss: train_loss=0.11, val_loss=0.08\n",
      "Loss: train_loss=0.08, val_loss=0.08\n",
      "Loss: train_loss=0.06, val_loss=0.07\n",
      "Loss: train_loss=0.06, val_loss=0.07\n",
      "Loss: train_loss=0.06, val_loss=0.07\n",
      "Loss: train_loss=0.05, val_loss=0.06\n",
      "Loss: train_loss=0.05, val_loss=0.06\n",
      "Loss: train_loss=0.05, val_loss=0.06\n",
      "Confusion matrix: tp=237, tn=699, fp=24, fn=40\n",
      "Evaluation Metrics: fold=1, accuracy=0.94, precision=0.91, recall=0.86\n",
      "Loss: train_loss=0.14, val_loss=0.13\n",
      "Loss: train_loss=0.12, val_loss=0.11\n",
      "Loss: train_loss=0.19, val_loss=0.19\n",
      "Loss: train_loss=0.07, val_loss=0.09\n",
      "Loss: train_loss=0.06, val_loss=0.09\n",
      "Loss: train_loss=0.06, val_loss=0.08\n",
      "Loss: train_loss=0.06, val_loss=0.08\n",
      "Loss: train_loss=0.05, val_loss=0.08\n",
      "Loss: train_loss=0.26, val_loss=0.24\n",
      "Loss: train_loss=0.04, val_loss=0.08\n",
      "Confusion matrix: tp=228, tn=696, fp=20, fn=56\n",
      "Evaluation Metrics: fold=2, accuracy=0.92, precision=0.92, recall=0.80\n",
      "Loss: train_loss=0.29, val_loss=0.25\n",
      "Loss: train_loss=0.10, val_loss=0.12\n",
      "Loss: train_loss=0.09, val_loss=0.10\n",
      "Loss: train_loss=0.08, val_loss=0.08\n",
      "Loss: train_loss=0.06, val_loss=0.08\n",
      "Loss: train_loss=0.13, val_loss=0.10\n",
      "Loss: train_loss=0.06, val_loss=0.07\n",
      "Loss: train_loss=0.06, val_loss=0.07\n",
      "Loss: train_loss=0.05, val_loss=0.07\n",
      "Loss: train_loss=0.04, val_loss=0.07\n",
      "Confusion matrix: tp=249, tn=676, fp=30, fn=45\n",
      "Evaluation Metrics: fold=3, accuracy=0.93, precision=0.89, recall=0.85\n",
      "Loss: train_loss=0.12, val_loss=0.19\n",
      "Loss: train_loss=0.09, val_loss=0.15\n",
      "Loss: train_loss=0.08, val_loss=0.12\n",
      "Loss: train_loss=0.07, val_loss=0.13\n",
      "Loss: train_loss=0.09, val_loss=0.19\n",
      "Loss: train_loss=0.05, val_loss=0.09\n",
      "Loss: train_loss=0.06, val_loss=0.09\n",
      "Loss: train_loss=0.05, val_loss=0.10\n",
      "Loss: train_loss=0.04, val_loss=0.09\n",
      "Loss: train_loss=0.04, val_loss=0.09\n",
      "Confusion matrix: tp=257, tn=648, fp=46, fn=49\n",
      "Evaluation Metrics: fold=4, accuracy=0.91, precision=0.85, recall=0.84\n"
     ]
    }
   ],
   "source": [
    "for fold in range(5):\n",
    "    run_fold(fold)"
   ]
  },
  {
   "cell_type": "code",
   "execution_count": null,
   "id": "7f6085e2",
   "metadata": {},
   "outputs": [],
   "source": []
  }
 ],
 "metadata": {
  "kernelspec": {
   "display_name": "Python 3 (ipykernel)",
   "language": "python",
   "name": "python3"
  },
  "language_info": {
   "codemirror_mode": {
    "name": "ipython",
    "version": 3
   },
   "file_extension": ".py",
   "mimetype": "text/x-python",
   "name": "python",
   "nbconvert_exporter": "python",
   "pygments_lexer": "ipython3",
   "version": "3.11.5"
  }
 },
 "nbformat": 4,
 "nbformat_minor": 5
}
